{
  "nbformat": 4,
  "nbformat_minor": 0,
  "metadata": {
    "colab": {
      "name": "14_Deep_Computer_Vision_with_CNNs.ipynb",
      "provenance": [],
      "authorship_tag": "ABX9TyMPyGQhVtfy0Q3mNb/VaCmr",
      "include_colab_link": true
    },
    "kernelspec": {
      "name": "python3",
      "display_name": "Python 3"
    },
    "language_info": {
      "name": "python"
    },
    "accelerator": "GPU",
    "gpuClass": "standard"
  },
  "cells": [
    {
      "cell_type": "markdown",
      "metadata": {
        "id": "view-in-github",
        "colab_type": "text"
      },
      "source": [
        "<a href=\"https://colab.research.google.com/github/federicochiarello/Hands-On-ML-Notebooks/blob/master/14_Deep_Computer_Vision_with_CNNs.ipynb\" target=\"_parent\"><img src=\"https://colab.research.google.com/assets/colab-badge.svg\" alt=\"Open In Colab\"/></a>"
      ]
    },
    {
      "cell_type": "markdown",
      "source": [
        "# Setup"
      ],
      "metadata": {
        "id": "ThxtIZB-7Y-w"
      }
    },
    {
      "cell_type": "code",
      "source": [
        "import sys\n",
        "import os\n",
        "import numpy as np\n",
        "import pandas as pd\n",
        "import sklearn\n",
        "import tensorflow as tf\n",
        "from tensorflow import keras\n",
        "\n",
        "import matplotlib as mpl\n",
        "import matplotlib.pyplot as plt\n",
        "%matplotlib inline\n",
        "\n",
        "np.random.seed(42)\n",
        "tf.random.set_seed(42)"
      ],
      "metadata": {
        "id": "8rk4WzNm6p-Z"
      },
      "execution_count": 1,
      "outputs": []
    },
    {
      "cell_type": "code",
      "execution_count": 2,
      "metadata": {
        "id": "VPCPTSE3nRyI"
      },
      "outputs": [],
      "source": [
        "# Is this notebook running on Colab or Kaggle?\n",
        "IS_COLAB = \"google.colab\" in sys.modules\n",
        "IS_KAGGLE = \"kaggle_secrets\" in sys.modules\n",
        "\n",
        "if not tf.config.list_physical_devices('GPU'):\n",
        "    print(\"No GPU was detected. CNNs can be very slow without a GPU.\")\n",
        "    if IS_COLAB:\n",
        "        print(\"Go to Runtime > Change runtime and select a GPU hardware accelerator.\")\n",
        "    if IS_KAGGLE:\n",
        "        print(\"Go to Settings > Accelerator and select GPU.\")"
      ]
    },
    {
      "cell_type": "code",
      "source": [
        "# Utility functions\n",
        "\n",
        "def plot_image(image):\n",
        "    plt.imshow(image, cmap='gray', interpolation='nearest')\n",
        "    plt.axis('off')\n",
        "\n",
        "def plot_color_image(image):\n",
        "    plt.imshow(image, interpolation='nearest')\n",
        "    plt.axis('off')\n",
        "\n",
        "def plot_loss(history):\n",
        "    plt.figure(figsize=(10,6))\n",
        "    plt.plot(history.epoch,history.history['loss'], label='loss')\n",
        "    plt.plot(history.epoch,history.history['val_loss'],label='val_loss')\n",
        "    plt.title('loss')\n",
        "    plt.legend()\n",
        "  \n",
        "def plot_accuracy(history):\n",
        "    plt.figure(figsize=(10,6))\n",
        "    plt.plot(history.epoch,history.history['accuracy'],label='accuracy')\n",
        "    plt.plot(history.epoch,history.history['val_accuracy'],label='val_accuracy')\n",
        "    plt.title('accuracy')\n",
        "    plt.legend()"
      ],
      "metadata": {
        "id": "-6cTgo4S7eiS"
      },
      "execution_count": 62,
      "outputs": []
    },
    {
      "cell_type": "markdown",
      "source": [
        "# Basic CNN\n",
        "On Fashion MNIST dataset\n",
        "\n"
      ],
      "metadata": {
        "id": "I4VHVPYR9Nd5"
      }
    },
    {
      "cell_type": "code",
      "source": [
        "(X_train_full, y_train_full), (X_test, y_test) = keras.datasets.fashion_mnist.load_data()\n",
        "X_train, X_valid = X_train_full[:5000], X_train_full[-5000:]\n",
        "y_train, y_valid = y_train_full[:5000], y_train_full[-5000:]\n",
        "\n",
        "X_mean = X_train.mean(axis=0, keepdims=True)\n",
        "X_std = X_train.std(axis=0, keepdims=True)\n",
        "X_train = (X_train - X_mean) / X_std\n",
        "X_valid = (X_valid - X_mean) / X_std\n",
        "X_test = (X_test - X_mean) / X_std\n",
        "\n",
        "X_train = X_train[..., np.newaxis]\n",
        "X_valid = X_valid[..., np.newaxis]\n",
        "X_test = X_test[..., np.newaxis]"
      ],
      "metadata": {
        "id": "5wGvtQXs8CNP"
      },
      "execution_count": 17,
      "outputs": []
    },
    {
      "cell_type": "code",
      "source": [
        "from keras.models import Sequential\n",
        "from keras.layers import Conv2D, MaxPooling2D, Flatten, Dense, Dropout"
      ],
      "metadata": {
        "id": "87cgZDbwCfR3"
      },
      "execution_count": 33,
      "outputs": []
    },
    {
      "cell_type": "code",
      "source": [
        "from functools import partial \n",
        "\n",
        "DefaultConv2D = partial(keras.layers.Conv2D, kernel_size=3, activation='relu', padding='SAME')"
      ],
      "metadata": {
        "id": "TTPaBdTtA7OQ"
      },
      "execution_count": 19,
      "outputs": []
    },
    {
      "cell_type": "code",
      "source": [
        "model = Sequential([\n",
        "    DefaultConv2D(filters=64, kernel_size=7, input_shape=[28, 28, 1]),\n",
        "    MaxPooling2D(pool_size=2),\n",
        "    DefaultConv2D(filters=128),\n",
        "    DefaultConv2D(filters=128),\n",
        "    MaxPooling2D(pool_size=2),\n",
        "    DefaultConv2D(filters=256),\n",
        "    DefaultConv2D(filters=256),\n",
        "    MaxPooling2D(pool_size=2),\n",
        "\n",
        "    Flatten(),\n",
        "    Dense(units=128, activation='relu'),\n",
        "    Dropout(0.5),\n",
        "    Dense(units=64, activation='relu'),\n",
        "    Dropout(0.5),\n",
        "    Dense(units=10, activation='softmax')\n",
        "])"
      ],
      "metadata": {
        "id": "aPQXGLm3A-JF"
      },
      "execution_count": 23,
      "outputs": []
    },
    {
      "cell_type": "code",
      "source": [
        "model.compile(loss='sparse_categorical_crossentropy', optimizer='nadam', metrics=['accuracy'])\n",
        "history = model.fit(X_train, y_train, epochs=10, validation_data=(X_valid, y_valid))"
      ],
      "metadata": {
        "colab": {
          "base_uri": "https://localhost:8080/"
        },
        "id": "pcZWVjEQBSPU",
        "outputId": "487df2d6-9f2d-445b-fbf3-b45408ce3931"
      },
      "execution_count": 24,
      "outputs": [
        {
          "output_type": "stream",
          "name": "stdout",
          "text": [
            "Epoch 1/10\n",
            "157/157 [==============================] - 16s 17ms/step - loss: 1.5352 - accuracy: 0.4504 - val_loss: 1.1679 - val_accuracy: 0.6146\n",
            "Epoch 2/10\n",
            "157/157 [==============================] - 2s 13ms/step - loss: 0.9274 - accuracy: 0.6764 - val_loss: 0.7070 - val_accuracy: 0.7678\n",
            "Epoch 3/10\n",
            "157/157 [==============================] - 2s 14ms/step - loss: 0.7393 - accuracy: 0.7346 - val_loss: 0.5759 - val_accuracy: 0.7928\n",
            "Epoch 4/10\n",
            "157/157 [==============================] - 2s 11ms/step - loss: 0.6597 - accuracy: 0.7726 - val_loss: 0.6059 - val_accuracy: 0.7882\n",
            "Epoch 5/10\n",
            "157/157 [==============================] - 2s 11ms/step - loss: 0.5836 - accuracy: 0.7950 - val_loss: 0.6048 - val_accuracy: 0.8030\n",
            "Epoch 6/10\n",
            "157/157 [==============================] - 2s 11ms/step - loss: 0.5337 - accuracy: 0.8116 - val_loss: 0.4870 - val_accuracy: 0.8304\n",
            "Epoch 7/10\n",
            "157/157 [==============================] - 2s 11ms/step - loss: 0.4740 - accuracy: 0.8308 - val_loss: 0.6791 - val_accuracy: 0.7664\n",
            "Epoch 8/10\n",
            "157/157 [==============================] - 2s 12ms/step - loss: 0.4640 - accuracy: 0.8362 - val_loss: 0.4781 - val_accuracy: 0.8412\n",
            "Epoch 9/10\n",
            "157/157 [==============================] - 2s 12ms/step - loss: 0.4101 - accuracy: 0.8566 - val_loss: 0.4638 - val_accuracy: 0.8446\n",
            "Epoch 10/10\n",
            "157/157 [==============================] - 2s 12ms/step - loss: 0.3612 - accuracy: 0.8628 - val_loss: 0.4791 - val_accuracy: 0.8576\n"
          ]
        }
      ]
    },
    {
      "cell_type": "code",
      "source": [
        "model.evaluate(X_test, y_test)"
      ],
      "metadata": {
        "colab": {
          "base_uri": "https://localhost:8080/"
        },
        "id": "8ulXu6HuExKR",
        "outputId": "7f87f4cc-4cad-45e9-ba62-23e6beaa46ce"
      },
      "execution_count": 25,
      "outputs": [
        {
          "output_type": "stream",
          "name": "stdout",
          "text": [
            "313/313 [==============================] - 1s 4ms/step - loss: 0.4862 - accuracy: 0.8475\n"
          ]
        },
        {
          "output_type": "execute_result",
          "data": {
            "text/plain": [
              "[0.48621881008148193, 0.8475000262260437]"
            ]
          },
          "metadata": {},
          "execution_count": 25
        }
      ]
    },
    {
      "cell_type": "markdown",
      "source": [
        "# CNN Architectures"
      ],
      "metadata": {
        "id": "PaAwFr0sezCR"
      }
    },
    {
      "cell_type": "markdown",
      "source": [
        "## Residual Unit\n",
        "ResNet-34 on CIFAR-10 dataset"
      ],
      "metadata": {
        "id": "lFDvAVoWF6hJ"
      }
    },
    {
      "cell_type": "code",
      "source": [
        "(X_train_full, y_train_full), (X_test, y_test) = (keras.datasets.cifar10.load_data())\n",
        "\n",
        "X_valid, X_train = X_train_full[:5000], X_train_full[5000:] \n",
        "y_valid, y_train = y_train_full[:5000], y_train_full[5000:]\n",
        "\n",
        "class_names = [\"airplane\", \"automobile\", \"bird\", \"cat\", \"deer\",\n",
        "               \"dog\", \"frog\", \"horse\", \"ship\", \"truck\"]"
      ],
      "metadata": {
        "colab": {
          "base_uri": "https://localhost:8080/"
        },
        "id": "Fa_i6yT8Ifkq",
        "outputId": "b42f26d4-d283-4e05-c050-9be694d375da"
      },
      "execution_count": 29,
      "outputs": [
        {
          "output_type": "stream",
          "name": "stdout",
          "text": [
            "Downloading data from https://www.cs.toronto.edu/~kriz/cifar-10-python.tar.gz\n",
            "170500096/170498071 [==============================] - 13s 0us/step\n",
            "170508288/170498071 [==============================] - 13s 0us/step\n"
          ]
        }
      ]
    },
    {
      "cell_type": "code",
      "source": [
        "mean = np.mean(X_train, axis=0)\n",
        "standard_deviation = np.std(X_train, axis=0)\n",
        "\n",
        "X_train = (X_train - mean) / standard_deviation\n",
        "X_valid = (X_valid - mean) / standard_deviation\n",
        "X_test = (X_test - mean) / standard_deviation"
      ],
      "metadata": {
        "id": "ij5-TTHPIqGL"
      },
      "execution_count": 30,
      "outputs": []
    },
    {
      "cell_type": "code",
      "source": [
        "from keras.layers import BatchNormalization, Activation, GlobalAveragePooling2D"
      ],
      "metadata": {
        "id": "v5KsXmNTLDYe"
      },
      "execution_count": 34,
      "outputs": []
    },
    {
      "cell_type": "code",
      "source": [
        "DefaultConv2D = partial(keras.layers.Conv2D, kernel_size=3, strides=1, \n",
        "                        padding='SAME', use_bias=False)"
      ],
      "metadata": {
        "id": "MWvW6tG9E13a"
      },
      "execution_count": 26,
      "outputs": []
    },
    {
      "cell_type": "code",
      "source": [
        "class ResidualUnit(keras.layers.Layer):\n",
        "\n",
        "    \"\"\"\n",
        "    Residual Units (RUs) \n",
        "    implementation of skip connections\n",
        "\n",
        "    Each Residual Unit is composed of two convolutional layers, Batch Normalization layer, ReLU activation.\n",
        "    They use 3x3 kernels and preserves spatial dimensions (stride=1, padding='SAME')\n",
        "\n",
        "    RU:\n",
        "        Conv2D\n",
        "        BatchNormalization\n",
        "        ReLU\n",
        "        Conv2D\n",
        "        BatchNormalization\n",
        "        (addition with skip_input)\n",
        "        ReLU\n",
        "        \n",
        "    Exception: strides > 2\n",
        "\n",
        "    --> In the ResNet-34 implementation the number of feature maps is doubled every\n",
        "        few residual units and at the same time the height and width are halved\n",
        "\n",
        "    If we use (strides == 2) the first internal Conv2D layer will halved the \n",
        "    height and width of the outputted feature maps.\n",
        "    In order to be able to sum the skip_input with those feature maps we need to pass the \n",
        "    input through a 1x1 Conv2D with stride 2 and the right number of feature maps.\n",
        "\n",
        "    \"\"\"\n",
        "\n",
        "    def __init__(self, filters, strides=1, activation='relu', **kwargs):\n",
        "        super().__init__(**kwargs)\n",
        "        self.activation = keras.activations.get(activation)\n",
        "\n",
        "        self.main_layers = [\n",
        "            DefaultConv2D(filters, strides=strides),\n",
        "            BatchNormalization(),\n",
        "            self.activation, \n",
        "            DefaultConv2D(filters),\n",
        "            BatchNormalization()\n",
        "        ]\n",
        "\n",
        "        self.skip_layers = []\n",
        "        if strides > 1:\n",
        "            self.skip_layers = [\n",
        "                DefaultConv2D(filters, kernel_size=1, strides=strides),\n",
        "                BatchNormalization()\n",
        "            ]\n",
        "        \n",
        "    def call(self, inputs):\n",
        "        Z = inputs\n",
        "        for layer in self.main_layers:\n",
        "            Z = layer(Z)\n",
        "        skip_Z = inputs\n",
        "        for layer in self.skip_layers:\n",
        "            skip_Z = layer(skip_Z)\n",
        "        return self.activation(Z + skip_Z)\n",
        "        "
      ],
      "metadata": {
        "id": "3QJoykThG600"
      },
      "execution_count": 56,
      "outputs": []
    },
    {
      "cell_type": "code",
      "source": [
        "from keras.layers.pooling import GlobalAveragePooling2D\n",
        "model = Sequential([\n",
        "    DefaultConv2D(64, kernel_size=5, strides=1, input_shape=[32, 32, 3]),\n",
        "    BatchNormalization(),\n",
        "    Activation('relu'),\n",
        "    # MaxPooling2D(pool_size=3, strides=2, padding='SAME'),\n",
        "\n",
        "    ResidualUnit(filters=64),\n",
        "    ResidualUnit(filters=64),\n",
        "    ResidualUnit(filters=128, strides=2),\n",
        "    ResidualUnit(filters=128),\n",
        "\n",
        "    GlobalAveragePooling2D(),\n",
        "    Flatten(),\n",
        "    keras.layers.Dropout(0.5),\n",
        "    keras.layers.Dense(32, activation='relu'),\n",
        "    Dense(10, activation='softmax') \n",
        "])"
      ],
      "metadata": {
        "id": "ttpahLuwG6yA"
      },
      "execution_count": 67,
      "outputs": []
    },
    {
      "cell_type": "code",
      "source": [
        "model.summary()"
      ],
      "metadata": {
        "colab": {
          "base_uri": "https://localhost:8080/"
        },
        "id": "EFNkq6R-Ue1n",
        "outputId": "e10dbb44-7653-4a72-8226-32b7885722a0"
      },
      "execution_count": 68,
      "outputs": [
        {
          "output_type": "stream",
          "name": "stdout",
          "text": [
            "Model: \"sequential_9\"\n",
            "_________________________________________________________________\n",
            " Layer (type)                Output Shape              Param #   \n",
            "=================================================================\n",
            " conv2d_113 (Conv2D)         (None, 32, 32, 64)        4800      \n",
            "                                                                 \n",
            " batch_normalization_107 (Ba  (None, 32, 32, 64)       256       \n",
            " tchNormalization)                                               \n",
            "                                                                 \n",
            " activation_9 (Activation)   (None, 32, 32, 64)        0         \n",
            "                                                                 \n",
            " residual_unit_44 (ResidualU  (None, 32, 32, 64)       74240     \n",
            " nit)                                                            \n",
            "                                                                 \n",
            " residual_unit_45 (ResidualU  (None, 32, 32, 64)       74240     \n",
            " nit)                                                            \n",
            "                                                                 \n",
            " residual_unit_46 (ResidualU  (None, 16, 16, 128)      230912    \n",
            " nit)                                                            \n",
            "                                                                 \n",
            " residual_unit_47 (ResidualU  (None, 16, 16, 128)      295936    \n",
            " nit)                                                            \n",
            "                                                                 \n",
            " global_average_pooling2d_8   (None, 128)              0         \n",
            " (GlobalAveragePooling2D)                                        \n",
            "                                                                 \n",
            " flatten_9 (Flatten)         (None, 128)               0         \n",
            "                                                                 \n",
            " dropout_9 (Dropout)         (None, 128)               0         \n",
            "                                                                 \n",
            " dense_18 (Dense)            (None, 32)                4128      \n",
            "                                                                 \n",
            " dense_19 (Dense)            (None, 10)                330       \n",
            "                                                                 \n",
            "=================================================================\n",
            "Total params: 684,842\n",
            "Trainable params: 682,922\n",
            "Non-trainable params: 1,920\n",
            "_________________________________________________________________\n"
          ]
        }
      ]
    },
    {
      "cell_type": "code",
      "source": [
        "# keras.utils.plot_model(model, show_shapes=True, to_file='residual_module.png')"
      ],
      "metadata": {
        "id": "wKG-Po0eUgct"
      },
      "execution_count": 69,
      "outputs": []
    },
    {
      "cell_type": "code",
      "source": [
        "model.compile(loss='sparse_categorical_crossentropy', optimizer='nadam', metrics=['accuracy'])"
      ],
      "metadata": {
        "id": "0I0o0cPNG6uc"
      },
      "execution_count": 70,
      "outputs": []
    },
    {
      "cell_type": "code",
      "source": [
        "history = model.fit(X_train, y_train, epochs=15, validation_data=(X_valid, y_valid))"
      ],
      "metadata": {
        "colab": {
          "base_uri": "https://localhost:8080/"
        },
        "id": "89F_PDWMG6pR",
        "outputId": "e6cfd368-50d2-4093-e2a4-23cb8f973618"
      },
      "execution_count": 71,
      "outputs": [
        {
          "output_type": "stream",
          "name": "stdout",
          "text": [
            "Epoch 1/15\n",
            "1407/1407 [==============================] - 33s 21ms/step - loss: 1.6477 - accuracy: 0.3817 - val_loss: 1.7178 - val_accuracy: 0.3964\n",
            "Epoch 2/15\n",
            "1407/1407 [==============================] - 30s 21ms/step - loss: 1.2243 - accuracy: 0.5570 - val_loss: 1.7376 - val_accuracy: 0.4614\n",
            "Epoch 3/15\n",
            "1407/1407 [==============================] - 30s 21ms/step - loss: 1.0169 - accuracy: 0.6347 - val_loss: 0.8483 - val_accuracy: 0.6958\n",
            "Epoch 4/15\n",
            "1407/1407 [==============================] - 30s 21ms/step - loss: 0.8873 - accuracy: 0.6826 - val_loss: 0.8147 - val_accuracy: 0.7020\n",
            "Epoch 5/15\n",
            "1407/1407 [==============================] - 29s 21ms/step - loss: 0.7851 - accuracy: 0.7257 - val_loss: 0.7820 - val_accuracy: 0.7256\n",
            "Epoch 6/15\n",
            "1407/1407 [==============================] - 30s 21ms/step - loss: 0.7002 - accuracy: 0.7553 - val_loss: 0.6955 - val_accuracy: 0.7542\n",
            "Epoch 7/15\n",
            "1407/1407 [==============================] - 29s 21ms/step - loss: 0.6176 - accuracy: 0.7874 - val_loss: 0.8178 - val_accuracy: 0.7114\n",
            "Epoch 8/15\n",
            "1407/1407 [==============================] - 30s 21ms/step - loss: 0.5542 - accuracy: 0.8105 - val_loss: 0.6012 - val_accuracy: 0.7958\n",
            "Epoch 9/15\n",
            "1407/1407 [==============================] - 29s 21ms/step - loss: 0.5044 - accuracy: 0.8286 - val_loss: 0.5734 - val_accuracy: 0.8072\n",
            "Epoch 10/15\n",
            "1407/1407 [==============================] - 30s 22ms/step - loss: 0.4547 - accuracy: 0.8434 - val_loss: 0.6148 - val_accuracy: 0.7906\n",
            "Epoch 11/15\n",
            "1407/1407 [==============================] - 32s 23ms/step - loss: 0.4118 - accuracy: 0.8583 - val_loss: 0.5256 - val_accuracy: 0.8292\n",
            "Epoch 12/15\n",
            "1407/1407 [==============================] - 29s 21ms/step - loss: 0.3739 - accuracy: 0.8718 - val_loss: 0.4797 - val_accuracy: 0.8406\n",
            "Epoch 13/15\n",
            "1407/1407 [==============================] - 29s 21ms/step - loss: 0.3424 - accuracy: 0.8828 - val_loss: 0.4974 - val_accuracy: 0.8222\n",
            "Epoch 14/15\n",
            "1407/1407 [==============================] - 30s 21ms/step - loss: 0.3071 - accuracy: 0.8957 - val_loss: 0.7427 - val_accuracy: 0.7840\n",
            "Epoch 15/15\n",
            "1407/1407 [==============================] - 30s 21ms/step - loss: 0.2767 - accuracy: 0.9055 - val_loss: 0.4750 - val_accuracy: 0.8438\n"
          ]
        }
      ]
    },
    {
      "cell_type": "code",
      "source": [
        "model.evaluate(X_test, y_test)"
      ],
      "metadata": {
        "colab": {
          "base_uri": "https://localhost:8080/"
        },
        "id": "f5T1r23bal5e",
        "outputId": "92ef5e6a-97da-46d5-bff4-e641d219efa2"
      },
      "execution_count": 72,
      "outputs": [
        {
          "output_type": "stream",
          "name": "stdout",
          "text": [
            "313/313 [==============================] - 2s 7ms/step - loss: 0.5037 - accuracy: 0.8364\n"
          ]
        },
        {
          "output_type": "execute_result",
          "data": {
            "text/plain": [
              "[0.5036720633506775, 0.8363999724388123]"
            ]
          },
          "metadata": {},
          "execution_count": 72
        }
      ]
    },
    {
      "cell_type": "code",
      "source": [
        "plot_loss(history)\n",
        "plot_accuracy(history)"
      ],
      "metadata": {
        "colab": {
          "base_uri": "https://localhost:8080/",
          "height": 763
        },
        "id": "hqf9pscIG6hV",
        "outputId": "80ccd13e-4e54-41da-ad89-6085fe8af427"
      },
      "execution_count": 73,
      "outputs": [
        {
          "output_type": "display_data",
          "data": {
            "text/plain": [
              "<Figure size 720x432 with 1 Axes>"
            ],
            "image/png": "[encoded data removed]"
          },
          "metadata": {
            "needs_background": "light"
          }
        },
        {
          "output_type": "display_data",
          "data": {
            "text/plain": [
              "<Figure size 720x432 with 1 Axes>"
            ],
            "image/png": "[encoded data removed]"
          },
          "metadata": {
            "needs_background": "light"
          }
        }
      ]
    },
    {
      "cell_type": "markdown",
      "source": [
        "## Inception Module\n",
        "GoogLeNet"
      ],
      "metadata": {
        "id": "IG4tLI6JcECj"
      }
    },
    {
      "cell_type": "code",
      "source": [
        "# # example of creating a CNN with an efficient inception module\n",
        "# from keras.models import Model\n",
        "# from keras.layers import Input\n",
        "# from keras.layers import Conv2D\n",
        "# from keras.layers import MaxPooling2D\n",
        "# from keras.layers.merge import concatenate\n",
        "# from keras.utils import plot_model\n",
        " \n",
        "# # function for creating a projected inception module\n",
        "# def inception_module(layer_in, f1, f2_in, f2_out, f3_in, f3_out, f4_out):\n",
        "# \t# 1x1 conv\n",
        "# \tconv1 = Conv2D(f1, (1,1), padding='same', activation='relu')(layer_in)\n",
        "# \t# 3x3 conv\n",
        "# \tconv3 = Conv2D(f2_in, (1,1), padding='same', activation='relu')(layer_in)\n",
        "# \tconv3 = Conv2D(f2_out, (3,3), padding='same', activation='relu')(conv3)\n",
        "# \t# 5x5 conv\n",
        "# \tconv5 = Conv2D(f3_in, (1,1), padding='same', activation='relu')(layer_in)\n",
        "# \tconv5 = Conv2D(f3_out, (5,5), padding='same', activation='relu')(conv5)\n",
        "# \t# 3x3 max pooling\n",
        "# \tpool = MaxPooling2D((3,3), strides=(1,1), padding='same')(layer_in)\n",
        "# \tpool = Conv2D(f4_out, (1,1), padding='same', activation='relu')(pool)\n",
        "# \t# concatenate filters, assumes filters/channels last\n",
        "# \tlayer_out = concatenate([conv1, conv3, conv5, pool], axis=-1)\n",
        "# \treturn layer_out\n",
        " \n",
        "# # define model input\n",
        "# visible = Input(shape=(256, 256, 3))\n",
        "# # add inception block 1\n",
        "# layer = inception_module(visible, 64, 96, 128, 16, 32, 32)\n",
        "# # add inception block 1\n",
        "# layer = inception_module(layer, 128, 128, 192, 32, 96, 64)\n",
        "# # create model\n",
        "# model = Model(inputs=visible, outputs=layer)\n",
        "# # summarize model\n",
        "# model.summary()\n",
        "# # plot model architecture\n",
        "# plot_model(model, show_shapes=True, to_file='inception_module.png')"
      ],
      "metadata": {
        "id": "hrEctFP3cGIM"
      },
      "execution_count": null,
      "outputs": []
    },
    {
      "cell_type": "markdown",
      "source": [
        "## Xception"
      ],
      "metadata": {
        "id": "KpJNJLWVeivI"
      }
    },
    {
      "cell_type": "code",
      "source": [
        ""
      ],
      "metadata": {
        "id": "trp6kwVkeiE2"
      },
      "execution_count": null,
      "outputs": []
    },
    {
      "cell_type": "markdown",
      "source": [
        "# Pretrained Models"
      ],
      "metadata": {
        "id": "t-bvs4m6Z310"
      }
    },
    {
      "cell_type": "code",
      "source": [
        ""
      ],
      "metadata": {
        "id": "oNA7PCneZ3e6"
      },
      "execution_count": null,
      "outputs": []
    },
    {
      "cell_type": "markdown",
      "source": [
        "# Transfer Learning"
      ],
      "metadata": {
        "id": "SIjFzpNsaDfm"
      }
    },
    {
      "cell_type": "code",
      "source": [
        ""
      ],
      "metadata": {
        "id": "k8j1ZfhIabDo"
      },
      "execution_count": null,
      "outputs": []
    }
  ]
}