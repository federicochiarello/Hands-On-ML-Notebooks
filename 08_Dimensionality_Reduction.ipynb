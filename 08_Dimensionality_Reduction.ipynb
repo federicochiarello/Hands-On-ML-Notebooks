{
  "nbformat": 4,
  "nbformat_minor": 0,
  "metadata": {
    "colab": {
      "provenance": [],
      "toc_visible": true,
      "authorship_tag": "ABX9TyMDQ0pwOr2z1eqTWr3VcHrl",
      "include_colab_link": true
    },
    "kernelspec": {
      "name": "python3",
      "display_name": "Python 3"
    },
    "language_info": {
      "name": "python"
    }
  },
  "cells": [
    {
      "cell_type": "markdown",
      "metadata": {
        "id": "view-in-github",
        "colab_type": "text"
      },
      "source": [
        "<a href=\"https://colab.research.google.com/github/federicochiarello/Hands-On-ML-Notebooks/blob/master/08_Dimensionality_Reduction.ipynb\" target=\"_parent\"><img src=\"https://colab.research.google.com/assets/colab-badge.svg\" alt=\"Open In Colab\"/></a>"
      ]
    },
    {
      "cell_type": "code",
      "execution_count": null,
      "metadata": {
        "id": "D0iySSPKgWPy"
      },
      "outputs": [],
      "source": [
        "import os\n",
        "import sys\n",
        "import numpy as np\n",
        "import pandas as pd\n",
        "import sklearn\n",
        "\n",
        "import matplotlib as mpl\n",
        "import matplotlib.pyplot as plt\n",
        "%matplotlib inline\n",
        "\n",
        "np.random.seed(42)"
      ]
    },
    {
      "cell_type": "markdown",
      "source": [
        "# PCA"
      ],
      "metadata": {
        "id": "ZIybiHvnhcxz"
      }
    },
    {
      "cell_type": "code",
      "source": [
        "# Build 3D dataset\n",
        "\n",
        "m = 60\n",
        "w1, w2 = 0.1, 0.3\n",
        "noise = 0.1\n",
        "\n",
        "angles = np.random.rand(m) * 3 * np.pi / 2 - 0.5\n",
        "X = np.empty((m, 3))\n",
        "X[:, 0] = np.cos(angles) + np.sin(angles)/2 + noise * np.random.randn(m) / 2\n",
        "X[:, 1] = np.sin(angles) * 0.7 + noise * np.random.randn(m) / 2\n",
        "X[:, 2] = X[:, 0] * w1 + X[:, 1] * w2 + noise * np.random.randn(m)"
      ],
      "metadata": {
        "id": "96E4-RRmhULQ"
      },
      "execution_count": null,
      "outputs": []
    },
    {
      "cell_type": "markdown",
      "source": [
        "## Principal Components"
      ],
      "metadata": {
        "id": "aR8Zi4g2iJzk"
      }
    },
    {
      "cell_type": "code",
      "source": [
        "X_centered = X - X.mean(axis=0)\n",
        "U, s, Vt = np.linalg.svd(X_centered)\n",
        "c1 = Vt.T[:, 0]\n",
        "c2 = Vt.T[:, 1]"
      ],
      "metadata": {
        "id": "VWd8suXjiN77"
      },
      "execution_count": null,
      "outputs": []
    },
    {
      "cell_type": "code",
      "source": [
        "m, n = X.shape\n",
        "\n",
        "S = np.zeros(X_centered.shape)\n",
        "S[:n, :n] = np.diag(s)"
      ],
      "metadata": {
        "id": "D8sOWUaLiosR"
      },
      "execution_count": null,
      "outputs": []
    },
    {
      "cell_type": "code",
      "source": [
        "np.allclose(X_centered, U.dot(S).dot(Vt))"
      ],
      "metadata": {
        "colab": {
          "base_uri": "https://localhost:8080/"
        },
        "id": "05jx9tf2i4fX",
        "outputId": "0d5a8c2a-c6ca-4ec8-e0c0-ebc63d344b30"
      },
      "execution_count": null,
      "outputs": [
        {
          "output_type": "execute_result",
          "data": {
            "text/plain": [
              "True"
            ]
          },
          "metadata": {},
          "execution_count": 5
        }
      ]
    },
    {
      "cell_type": "markdown",
      "source": [
        "## Projecting Down to d Dimensions"
      ],
      "metadata": {
        "id": "zFIR5g0gjB7N"
      }
    },
    {
      "cell_type": "code",
      "source": [
        "W2 = Vt.T[:, :2]\n",
        "X2D_using_svd = X2S = X_centered.dot(W2)"
      ],
      "metadata": {
        "id": "8RlhZVJhjA-J"
      },
      "execution_count": null,
      "outputs": []
    },
    {
      "cell_type": "markdown",
      "source": [
        "## Using Scikit-Learn"
      ],
      "metadata": {
        "id": "pr55LzzgjbFm"
      }
    },
    {
      "cell_type": "code",
      "source": [
        "from sklearn.decomposition import PCA\n",
        "\n",
        "# Sklearn PCA takes care of mean centering by default\n",
        "pca = PCA(n_components=2)\n",
        "X2D = pca.fit_transform(X)"
      ],
      "metadata": {
        "id": "MEnWU3hrjS7S"
      },
      "execution_count": null,
      "outputs": []
    },
    {
      "cell_type": "code",
      "source": [
        "X2D[:5]"
      ],
      "metadata": {
        "colab": {
          "base_uri": "https://localhost:8080/"
        },
        "id": "DbvIHl7pjwr_",
        "outputId": "208a1a90-a7d2-4216-a633-feb6c8f35952"
      },
      "execution_count": null,
      "outputs": [
        {
          "output_type": "execute_result",
          "data": {
            "text/plain": [
              "array([[-0.690074  , -0.36150744],\n",
              "       [ 1.39636097,  0.34497714],\n",
              "       [ 1.00728461, -0.35025708],\n",
              "       [ 0.2736333 , -0.50516373],\n",
              "       [-0.91324535,  0.26290852]])"
            ]
          },
          "metadata": {},
          "execution_count": 8
        }
      ]
    },
    {
      "cell_type": "code",
      "source": [
        "X2D_using_svd[:5]"
      ],
      "metadata": {
        "colab": {
          "base_uri": "https://localhost:8080/"
        },
        "id": "xg2w-8lQj0hW",
        "outputId": "9961feb3-d759-48c8-ce18-65aeb0e56da4"
      },
      "execution_count": null,
      "outputs": [
        {
          "output_type": "execute_result",
          "data": {
            "text/plain": [
              "array([[-0.690074  , -0.36150744],\n",
              "       [ 1.39636097,  0.34497714],\n",
              "       [ 1.00728461, -0.35025708],\n",
              "       [ 0.2736333 , -0.50516373],\n",
              "       [-0.91324535,  0.26290852]])"
            ]
          },
          "metadata": {},
          "execution_count": 9
        }
      ]
    },
    {
      "cell_type": "markdown",
      "source": [
        "## Recover original points"
      ],
      "metadata": {
        "id": "81OvlSFIk60u"
      }
    },
    {
      "cell_type": "code",
      "source": [
        "X3D_inv = pca.inverse_transform(X2D)\n",
        "X3D_inv_using_svd = X2D_using_svd.dot(Vt[:2, :])\n",
        "\n",
        "np.allclose(X3D_inv, X)"
      ],
      "metadata": {
        "colab": {
          "base_uri": "https://localhost:8080/"
        },
        "id": "VoJgPGdcj3sh",
        "outputId": "8f898860-3c14-4fd7-ab95-e403eb3d0c39"
      },
      "execution_count": null,
      "outputs": [
        {
          "output_type": "execute_result",
          "data": {
            "text/plain": [
              "False"
            ]
          },
          "metadata": {},
          "execution_count": 10
        }
      ]
    },
    {
      "cell_type": "code",
      "source": [
        "# reconstruction error\n",
        "np.mean(np.sum(np.square(X3D_inv - X), axis=1))"
      ],
      "metadata": {
        "colab": {
          "base_uri": "https://localhost:8080/"
        },
        "id": "k-BuwYEHlvEl",
        "outputId": "3077f93b-dfb7-4fbb-c1d7-b661def2b068"
      },
      "execution_count": null,
      "outputs": [
        {
          "output_type": "execute_result",
          "data": {
            "text/plain": [
              "0.009421417196957216"
            ]
          },
          "metadata": {},
          "execution_count": 11
        }
      ]
    },
    {
      "cell_type": "code",
      "source": [
        "# Reconstructions are identical (if we subtract the mean from Sklearn version)\n",
        "np.allclose(X3D_inv_using_svd, X3D_inv - pca.mean_)"
      ],
      "metadata": {
        "colab": {
          "base_uri": "https://localhost:8080/"
        },
        "id": "mHDpKONKlz7e",
        "outputId": "8d77ee6b-d43b-4f0b-b56a-4b401bc5c268"
      },
      "execution_count": null,
      "outputs": [
        {
          "output_type": "execute_result",
          "data": {
            "text/plain": [
              "True"
            ]
          },
          "metadata": {},
          "execution_count": 12
        }
      ]
    },
    {
      "cell_type": "code",
      "source": [
        "pca.components_"
      ],
      "metadata": {
        "colab": {
          "base_uri": "https://localhost:8080/"
        },
        "id": "Dxe3afpZmny7",
        "outputId": "ce5b2bc7-9eac-450f-efed-c09579a2fa96"
      },
      "execution_count": null,
      "outputs": [
        {
          "output_type": "execute_result",
          "data": {
            "text/plain": [
              "array([[-0.95250178, -0.24902446, -0.17529172],\n",
              "       [ 0.29267159, -0.9076305 , -0.30091563]])"
            ]
          },
          "metadata": {},
          "execution_count": 13
        }
      ]
    },
    {
      "cell_type": "code",
      "source": [
        "Vt[:2]"
      ],
      "metadata": {
        "colab": {
          "base_uri": "https://localhost:8080/"
        },
        "id": "ghExvpGxmrsM",
        "outputId": "297fb4e1-cb8a-4fef-a199-0cb0298bbe18"
      },
      "execution_count": null,
      "outputs": [
        {
          "output_type": "execute_result",
          "data": {
            "text/plain": [
              "array([[-0.95250178, -0.24902446, -0.17529172],\n",
              "       [ 0.29267159, -0.9076305 , -0.30091563]])"
            ]
          },
          "metadata": {},
          "execution_count": 14
        }
      ]
    },
    {
      "cell_type": "markdown",
      "source": [
        "## Explained Variance Ratio"
      ],
      "metadata": {
        "id": "nqMqIypzm1iq"
      }
    },
    {
      "cell_type": "code",
      "source": [
        "pca.explained_variance_ratio_"
      ],
      "metadata": {
        "colab": {
          "base_uri": "https://localhost:8080/"
        },
        "id": "GJsLl9N-mu0d",
        "outputId": "a88e4f35-1588-469c-8a59-6f0c95edc2ec"
      },
      "execution_count": null,
      "outputs": [
        {
          "output_type": "execute_result",
          "data": {
            "text/plain": [
              "array([0.85406025, 0.13622918])"
            ]
          },
          "metadata": {},
          "execution_count": 15
        }
      ]
    },
    {
      "cell_type": "code",
      "source": [
        "1 - pca.explained_variance_ratio_.sum()"
      ],
      "metadata": {
        "colab": {
          "base_uri": "https://localhost:8080/"
        },
        "id": "ADXYG8wgm-ne",
        "outputId": "09f31792-5bc6-4b9e-b764-388c451c1de3"
      },
      "execution_count": null,
      "outputs": [
        {
          "output_type": "execute_result",
          "data": {
            "text/plain": [
              "0.00971056761601341"
            ]
          },
          "metadata": {},
          "execution_count": 16
        }
      ]
    },
    {
      "cell_type": "markdown",
      "source": [
        "## Choosing the right number of dimensions"
      ],
      "metadata": {
        "id": "YfbkRRFnncTw"
      }
    },
    {
      "cell_type": "code",
      "source": [
        "from sklearn.datasets import fetch_openml\n",
        "\n",
        "mnist = fetch_openml('mnist_784', version=1, as_frame=False)\n",
        "mnist.target = mnist.target.astype(np.uint8)"
      ],
      "metadata": {
        "colab": {
          "base_uri": "https://localhost:8080/"
        },
        "id": "IoDMFNPenbv-",
        "outputId": "ae12123f-8b9f-4892-ede5-feb2a4dde3b6"
      },
      "execution_count": null,
      "outputs": [
        {
          "output_type": "stream",
          "name": "stderr",
          "text": [
            "/usr/local/lib/python3.10/dist-packages/sklearn/datasets/_openml.py:968: FutureWarning: The default value of `parser` will change from `'liac-arff'` to `'auto'` in 1.4. You can set `parser='auto'` to silence this warning. Therefore, an `ImportError` will be raised from 1.4 if the dataset is dense and pandas is not installed. Note that the pandas parser may return different data types. See the Notes Section in fetch_openml's API doc for details.\n",
            "  warn(\n"
          ]
        }
      ]
    },
    {
      "cell_type": "code",
      "source": [
        "from sklearn.model_selection import train_test_split\n",
        "\n",
        "X = mnist['data']\n",
        "y = mnist['target']\n",
        "\n",
        "X_train, X_test, y_train, y_test = train_test_split(X, y)"
      ],
      "metadata": {
        "id": "Pd70X_KxnH5y"
      },
      "execution_count": null,
      "outputs": []
    },
    {
      "cell_type": "code",
      "source": [
        "pca = PCA()\n",
        "pca.fit(X_train)\n",
        "cumsum = np.cumsum(pca.explained_variance_ratio_)\n",
        "d = np.argmax(cumsum >= 0.95) + 1\n",
        "d"
      ],
      "metadata": {
        "colab": {
          "base_uri": "https://localhost:8080/"
        },
        "id": "Jz56ZkA9nnXK",
        "outputId": "64d6fefa-3a03-4cd2-f460-681be964edb7"
      },
      "execution_count": null,
      "outputs": [
        {
          "output_type": "execute_result",
          "data": {
            "text/plain": [
              "154"
            ]
          },
          "metadata": {},
          "execution_count": 19
        }
      ]
    },
    {
      "cell_type": "code",
      "source": [
        "plt.figure(figsize=(6,4))\n",
        "plt.plot(cumsum, linewidth=3)\n",
        "plt.axis([0, 400, 0, 1])\n",
        "plt.xlabel(\"Dimensions\")\n",
        "plt.ylabel(\"Explained Variance\")\n",
        "plt.plot([d, d], [0, 0.95], \"k:\")\n",
        "plt.plot([0, d], [0.95, 0.95], \"k:\")\n",
        "plt.plot(d, 0.95, \"ko\")\n",
        "plt.annotate(\"Elbow\", xy=(65, 0.85), xytext=(70, 0.7),\n",
        "             arrowprops=dict(arrowstyle=\"->\"), fontsize=16)\n",
        "plt.grid(True)\n",
        "plt.show()"
      ],
      "metadata": {
        "colab": {
          "base_uri": "https://localhost:8080/",
          "height": 393
        },
        "id": "86f79FipnnUW",
        "outputId": "6aab53e1-0914-41bb-975c-83d6b8eab9f1"
      },
      "execution_count": null,
      "outputs": [
        {
          "output_type": "display_data",
          "data": {
            "text/plain": [
              "<Figure size 600x400 with 1 Axes>"
            ],
            "image/png": "[encoded data removed]"
          },
          "metadata": {}
        }
      ]
    },
    {
      "cell_type": "code",
      "source": [
        "pca = PCA(n_components=0.95)\n",
        "X_reduced = pca.fit_transform(X_train)"
      ],
      "metadata": {
        "id": "Gqw7FRwhnnRz"
      },
      "execution_count": null,
      "outputs": []
    },
    {
      "cell_type": "code",
      "source": [
        "pca.n_components_"
      ],
      "metadata": {
        "colab": {
          "base_uri": "https://localhost:8080/"
        },
        "id": "37QxQmFhnnPY",
        "outputId": "ec691052-c50a-48d0-8112-08d69ea39876"
      },
      "execution_count": null,
      "outputs": [
        {
          "output_type": "execute_result",
          "data": {
            "text/plain": [
              "154"
            ]
          },
          "metadata": {},
          "execution_count": 22
        }
      ]
    },
    {
      "cell_type": "code",
      "source": [
        "np.sum(pca.explained_variance_ratio_)"
      ],
      "metadata": {
        "colab": {
          "base_uri": "https://localhost:8080/"
        },
        "id": "18SdwjgLnnMu",
        "outputId": "bb874132-6d4b-4c39-860e-3b8796bd579c"
      },
      "execution_count": null,
      "outputs": [
        {
          "output_type": "execute_result",
          "data": {
            "text/plain": [
              "0.9504506731634907"
            ]
          },
          "metadata": {},
          "execution_count": 23
        }
      ]
    },
    {
      "cell_type": "markdown",
      "source": [
        "# PCA for Compression"
      ],
      "metadata": {
        "id": "Ao7EuEgCqB8S"
      }
    },
    {
      "cell_type": "code",
      "source": [
        "pca = PCA(n_components=154)\n",
        "X_reduced = pca.fit_transform(X_train)\n",
        "X_recovered = pca.inverse_transform(X_reduced)"
      ],
      "metadata": {
        "id": "xd3G5QnYnnKL"
      },
      "execution_count": null,
      "outputs": []
    },
    {
      "cell_type": "code",
      "source": [
        "# EXTRA\n",
        "def plot_digits(instances, images_per_row=5, **options):\n",
        "    size = 28\n",
        "    images_per_row = min(len(instances), images_per_row)\n",
        "    # This is equivalent to n_rows = ceil(len(instances) / images_per_row):\n",
        "    n_rows = (len(instances) - 1) // images_per_row + 1\n",
        "\n",
        "    # Append empty images to fill the end of the grid, if needed:\n",
        "    n_empty = n_rows * images_per_row - len(instances)\n",
        "    padded_instances = np.concatenate([instances, np.zeros((n_empty, size * size))], axis=0)\n",
        "\n",
        "    # Reshape the array so it's organized as a grid containing 28×28 images:\n",
        "    image_grid = padded_instances.reshape((n_rows, images_per_row, size, size))\n",
        "\n",
        "    # Combine axes 0 and 2 (vertical image grid axis, and vertical image axis),\n",
        "    # and axes 1 and 3 (horizontal axes). We first need to move the axes that we\n",
        "    # want to combine next to each other, using transpose(), and only then we\n",
        "    # can reshape:\n",
        "    big_image = image_grid.transpose(0, 2, 1, 3).reshape(n_rows * size,\n",
        "                                                         images_per_row * size)\n",
        "    # Now that we have a big image, we just need to show it:\n",
        "    plt.imshow(big_image, cmap = mpl.cm.binary, **options)\n",
        "    plt.axis(\"off\")"
      ],
      "metadata": {
        "id": "b57KVxsbrbzh"
      },
      "execution_count": null,
      "outputs": []
    },
    {
      "cell_type": "code",
      "source": [
        "plt.figure(figsize=(7, 4))\n",
        "plt.subplot(121)\n",
        "plot_digits(X_train[::2100])\n",
        "plt.title(\"Original\", fontsize=16)\n",
        "plt.subplot(122)\n",
        "plot_digits(X_recovered[::2100])\n",
        "plt.title(\"Compressed\", fontsize=16)"
      ],
      "metadata": {
        "colab": {
          "base_uri": "https://localhost:8080/",
          "height": 325
        },
        "id": "VosDqI14rfC7",
        "outputId": "ad07e8db-c1f3-4fe0-f56c-24fdf48e664a"
      },
      "execution_count": null,
      "outputs": [
        {
          "output_type": "execute_result",
          "data": {
            "text/plain": [
              "Text(0.5, 1.0, 'Compressed')"
            ]
          },
          "metadata": {},
          "execution_count": 28
        },
        {
          "output_type": "display_data",
          "data": {
            "text/plain": [
              "<Figure size 700x400 with 2 Axes>"
            ],
            "image/png": "[encoded data removed]"
          },
          "metadata": {}
        }
      ]
    },
    {
      "cell_type": "code",
      "source": [
        "X_reduced_pca = X_reduced"
      ],
      "metadata": {
        "id": "xuVK0RQwrlGw"
      },
      "execution_count": null,
      "outputs": []
    },
    {
      "cell_type": "markdown",
      "source": [
        "# Randomized PCA"
      ],
      "metadata": {
        "id": "8whHRZIuqE_M"
      }
    },
    {
      "cell_type": "code",
      "source": [
        "rnd_pca = PCA(n_components=154, svd_solver=\"randomized\", random_state=42)\n",
        "X_reduced = rnd_pca.fit_transform(X_train)"
      ],
      "metadata": {
        "id": "-_wceu3fnnHO"
      },
      "execution_count": null,
      "outputs": []
    },
    {
      "cell_type": "markdown",
      "source": [
        "# Incremental PCA"
      ],
      "metadata": {
        "id": "hAfx10RbqIPv"
      }
    },
    {
      "cell_type": "code",
      "source": [
        "from sklearn.decomposition import IncrementalPCA\n",
        "\n",
        "n_batches = 100\n",
        "inc_pca = IncrementalPCA(n_components=154)\n",
        "\n",
        "for X_batch in np.array_split(X_train, n_batches):\n",
        "    inc_pca.partial_fit(X_batch)\n",
        "\n",
        "X_reduced_inc_pca = inc_pca.transform(X_train)"
      ],
      "metadata": {
        "id": "UJ0tmFqAqLG6"
      },
      "execution_count": null,
      "outputs": []
    },
    {
      "cell_type": "code",
      "source": [
        "# results are close but not exactly identical\n",
        "np.allclose(X_reduced_pca, X_reduced_inc_pca)"
      ],
      "metadata": {
        "colab": {
          "base_uri": "https://localhost:8080/"
        },
        "id": "Xm0Gw7we9mVL",
        "outputId": "36ef361b-a9b5-4c57-86ce-c1c9d0991f8a"
      },
      "execution_count": null,
      "outputs": [
        {
          "output_type": "execute_result",
          "data": {
            "text/plain": [
              "False"
            ]
          },
          "metadata": {},
          "execution_count": 33
        }
      ]
    },
    {
      "cell_type": "markdown",
      "source": [
        "# Kernel PCA"
      ],
      "metadata": {
        "id": "BRl1cLveqMGD"
      }
    },
    {
      "cell_type": "code",
      "source": [
        "from sklearn.datasets import make_swiss_roll\n",
        "\n",
        "X, t = make_swiss_roll(n_samples=1000, noise=0.2, random_state=42)"
      ],
      "metadata": {
        "id": "c4cHsXxYqNg7"
      },
      "execution_count": null,
      "outputs": []
    },
    {
      "cell_type": "code",
      "source": [
        "from sklearn.decomposition import KernelPCA\n",
        "\n",
        "rbf_pca = KernelPCA(n_components=2, kernel=\"rbf\", gamma=0.04)\n",
        "X_reduced_kernel_pca = rbf_pca.fit_transform(X)"
      ],
      "metadata": {
        "id": "akV-G4NY-a9a"
      },
      "execution_count": null,
      "outputs": []
    },
    {
      "cell_type": "markdown",
      "source": [
        "# LLE"
      ],
      "metadata": {
        "id": "kAUuvp3RqPqu"
      }
    },
    {
      "cell_type": "code",
      "source": [
        "X, t = make_swiss_roll(n_samples=1000, noise=0.2, random_state=41)"
      ],
      "metadata": {
        "id": "ZX8jiq67qRLZ"
      },
      "execution_count": null,
      "outputs": []
    },
    {
      "cell_type": "code",
      "source": [
        "from sklearn.manifold import LocallyLinearEmbedding\n",
        "\n",
        "lle = LocallyLinearEmbedding(n_components=2, n_neighbors=10, random_state=42)\n",
        "X_reduced_lle = lle.fit_transform(X)"
      ],
      "metadata": {
        "id": "Yju_JA9g_VeH"
      },
      "execution_count": null,
      "outputs": []
    },
    {
      "cell_type": "markdown",
      "source": [
        "# Other Dimensionality Reduction Techniques"
      ],
      "metadata": {
        "id": "2kP7uxa9_iC2"
      }
    },
    {
      "cell_type": "code",
      "source": [
        "from sklearn.manifold import MDS\n",
        "\n",
        "mds = MDS(n_components=2, random_state=42)\n",
        "X_reduced_mds = mds.fit_transform(X)"
      ],
      "metadata": {
        "colab": {
          "base_uri": "https://localhost:8080/"
        },
        "id": "2iUIfwEY_ak9",
        "outputId": "188b9c62-d3d0-49cf-ab18-35413703247e"
      },
      "execution_count": null,
      "outputs": [
        {
          "output_type": "stream",
          "name": "stderr",
          "text": [
            "/usr/local/lib/python3.10/dist-packages/sklearn/manifold/_mds.py:299: FutureWarning: The default value of `normalized_stress` will change to `'auto'` in version 1.4. To suppress this warning, manually set the value of `normalized_stress`.\n",
            "  warnings.warn(\n"
          ]
        }
      ]
    },
    {
      "cell_type": "code",
      "source": [
        "from sklearn.manifold import Isomap\n",
        "\n",
        "isomap = Isomap(n_components=2)\n",
        "X_reduced_isomap = isomap.fit_transform(X)"
      ],
      "metadata": {
        "id": "X9WBZqkJ_uns"
      },
      "execution_count": null,
      "outputs": []
    },
    {
      "cell_type": "code",
      "source": [
        "from sklearn.manifold import TSNE\n",
        "\n",
        "tsne = TSNE(n_components=2, random_state=42)\n",
        "X_reduced_tsne = tsne.fit_transform(X)"
      ],
      "metadata": {
        "id": "6Pa2_fT8_xtE"
      },
      "execution_count": null,
      "outputs": []
    },
    {
      "cell_type": "code",
      "source": [
        "from sklearn.discriminant_analysis import LinearDiscriminantAnalysis\n",
        "\n",
        "lda = LinearDiscriminantAnalysis(n_components=2)\n",
        "X_mnist = mnist[\"data\"]\n",
        "y_mnist = mnist[\"target\"]\n",
        "lda.fit(X_mnist, y_mnist)\n",
        "X_reduced_lda = lda.transform(X_mnist)"
      ],
      "metadata": {
        "id": "YQrtDDj9_yiS"
      },
      "execution_count": null,
      "outputs": []
    }
  ]
}